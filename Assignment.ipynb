{
 "cells": [
  {
   "cell_type": "code",
   "execution_count": 1,
   "id": "980631e7-90d3-4b19-a09f-6b58ea44e5ef",
   "metadata": {},
   "outputs": [],
   "source": [
    "#Q1. Create one variable containing following type of data:\n",
    "#(i) string\n",
    "#(ii) list\n",
    "#(iii) float\n",
    "#(iv) tuple\n",
    "\n",
    "#ANSWERS\n",
    "\n",
    "a= \"chirag\"\n",
    "blist=[1,2,3,\"chirag\",12.3]\n",
    "c=25.4\n",
    "dtuple=(1,2,3,\"chirag\")\n"
   ]
  },
  {
   "cell_type": "markdown",
   "id": "144bbb69-3065-48df-9cad-8f2897e9bf35",
   "metadata": {},
   "source": [
    "Q2. Given are some following variables containing data:\n",
    "(i) var1 = ‘ ‘\n",
    "(ii) var2 = ‘[ DS , ML , Python]’\n",
    "(iii) var3 = [ ‘DS’ , ’ML’ , ‘Python’ ]\n",
    "(iv) var4 = 1.\n",
    "\n",
    "i)String\n",
    "ii)String\n",
    "iii)List\n",
    "iv)int\n"
   ]
  },
  {
   "cell_type": "markdown",
   "id": "a2b8b70f-e23d-4a19-83f4-01fe3ddd285b",
   "metadata": {},
   "source": [
    "Q3. Explain the use of the following operators using an example:\n",
    "(i) /\n",
    "(ii) %\n",
    "(iii) //\n",
    "(iv) **"
   ]
  },
  {
   "cell_type": "code",
   "execution_count": 7,
   "id": "38af7af3-91e1-4d92-b108-c7a942236c85",
   "metadata": {},
   "outputs": [
    {
     "data": {
      "text/plain": [
       "2.0"
      ]
     },
     "execution_count": 7,
     "metadata": {},
     "output_type": "execute_result"
    }
   ],
   "source": [
    "10/5\n",
    "#/ it is used to devide two numbers."
   ]
  },
  {
   "cell_type": "code",
   "execution_count": 9,
   "id": "6bed089f-22e9-4efc-bad0-eec0e5bb2537",
   "metadata": {},
   "outputs": [
    {
     "data": {
      "text/plain": [
       "1"
      ]
     },
     "execution_count": 9,
     "metadata": {},
     "output_type": "execute_result"
    }
   ],
   "source": [
    "10%3\n",
    "#this symbol is used to get the remainder numbers after deviding"
   ]
  },
  {
   "cell_type": "code",
   "execution_count": 12,
   "id": "6297a966-b18c-4678-a685-c78db9e2a0ea",
   "metadata": {},
   "outputs": [
    {
     "data": {
      "text/plain": [
       "2"
      ]
     },
     "execution_count": 12,
     "metadata": {},
     "output_type": "execute_result"
    }
   ],
   "source": [
    "10//4\n",
    "#thees symbols are used to devide the numer without getting decimal value it will make it whole number itself"
   ]
  },
  {
   "cell_type": "code",
   "execution_count": 15,
   "id": "ae6a2bf7-7ec2-41d6-bb48-c6210afcd9ae",
   "metadata": {},
   "outputs": [
    {
     "data": {
      "text/plain": [
       "27"
      ]
     },
     "execution_count": 15,
     "metadata": {},
     "output_type": "execute_result"
    }
   ],
   "source": [
    "3**3\n",
    "#it is used to give power means square and cube we also can find it means in this example 3 power3 "
   ]
  },
  {
   "cell_type": "markdown",
   "id": "807a14db-c185-4cee-90ca-656ef2e46572",
   "metadata": {},
   "source": [
    "Q4. Create a list of length 10 of your choice containing multiple types of data. Using for loop print the\n",
    "element and its data type."
   ]
  },
  {
   "cell_type": "code",
   "execution_count": 1,
   "id": "00a89840-3722-48fc-bb9a-73af75edfda4",
   "metadata": {},
   "outputs": [],
   "source": [
    "list1=[1,2,3,4,5,\"chirag\",2.2,True,6,7]"
   ]
  },
  {
   "cell_type": "code",
   "execution_count": 2,
   "id": "ed0904f5-3f73-4611-9b0c-637519d98930",
   "metadata": {},
   "outputs": [
    {
     "data": {
      "text/plain": [
       "list"
      ]
     },
     "execution_count": 2,
     "metadata": {},
     "output_type": "execute_result"
    }
   ],
   "source": [
    "type(list1)"
   ]
  },
  {
   "cell_type": "code",
   "execution_count": 3,
   "id": "3c104c8e-8337-4be6-b894-2d0afad4b2b9",
   "metadata": {},
   "outputs": [
    {
     "name": "stdout",
     "output_type": "stream",
     "text": [
      "1\n",
      "2\n",
      "3\n",
      "4\n",
      "5\n",
      "chirag\n",
      "2.2\n",
      "True\n",
      "6\n",
      "7\n"
     ]
    }
   ],
   "source": [
    "for i in list1:\n",
    "    print(i)"
   ]
  },
  {
   "cell_type": "code",
   "execution_count": 4,
   "id": "1413ac4f-5ddf-42b1-b2a2-077b616422c6",
   "metadata": {},
   "outputs": [
    {
     "name": "stdout",
     "output_type": "stream",
     "text": [
      "<class 'int'>\n",
      "<class 'int'>\n",
      "<class 'int'>\n",
      "<class 'int'>\n",
      "<class 'int'>\n",
      "<class 'str'>\n",
      "<class 'float'>\n",
      "<class 'bool'>\n",
      "<class 'int'>\n",
      "<class 'int'>\n"
     ]
    }
   ],
   "source": [
    "for i in list1:\n",
    "    print(type(i))"
   ]
  },
  {
   "cell_type": "code",
   "execution_count": 12,
   "id": "ee887bfa-1de8-4956-b0c3-51db1b5b8073",
   "metadata": {},
   "outputs": [
    {
     "name": "stdout",
     "output_type": "stream",
     "text": [
      "<class 'int'>\n",
      "<class 'int'>\n",
      "<class 'int'>\n",
      "<class 'int'>\n",
      "<class 'int'>\n",
      "<class 'str'>\n",
      "<class 'float'>\n",
      "<class 'bool'>\n",
      "<class 'int'>\n",
      "<class 'int'>\n"
     ]
    }
   ],
   "source": [
    "for i in list1:\n",
    "    print(type(i))\n",
    "    if i==3:\n",
    "        continue\n",
    "        print(i)\n",
    "    \n",
    "        "
   ]
  },
  {
   "cell_type": "code",
   "execution_count": 7,
   "id": "b4a9da51-c23f-4c1b-abf0-9701f5bfc754",
   "metadata": {},
   "outputs": [
    {
     "name": "stdin",
     "output_type": "stream",
     "text": [
      "Enter number a= 20\n",
      "Enter number b= 20\n"
     ]
    },
    {
     "name": "stdout",
     "output_type": "stream",
     "text": [
      "A is not completely divisible by b \n"
     ]
    }
   ],
   "source": [
    "#question 4 \n",
    "A=int(input(\"Enter number a=\"))\n",
    "B=int(input(\"Enter number b=\"))\n",
    "while A%B==0:\n",
    "    A//=B\n",
    "    if A ==0:\n",
    "        print(\"A is completely divisible by b \")\n",
    "    else:\n",
    "            print(\"A is not completely divisible by b \")\n",
    "    \n",
    "        "
   ]
  },
  {
   "cell_type": "code",
   "execution_count": 10,
   "id": "3ae7345a-280f-41da-a0df-5b6135a8f4dc",
   "metadata": {},
   "outputs": [
    {
     "name": "stdout",
     "output_type": "stream",
     "text": [
      "it is not divisible by 3\n",
      "it is not divisible by 3\n",
      "Number is devided by 3 \n",
      "it is not divisible by 3\n",
      "it is not divisible by 3\n",
      "Number is devided by 3 \n",
      "it is not divisible by 3\n",
      "it is not divisible by 3\n",
      "Number is devided by 3 \n",
      "it is not divisible by 3\n",
      "it is not divisible by 3\n",
      "Number is devided by 3 \n",
      "it is not divisible by 3\n",
      "it is not divisible by 3\n",
      "Number is devided by 3 \n",
      "it is not divisible by 3\n",
      "it is not divisible by 3\n",
      "Number is devided by 3 \n",
      "it is not divisible by 3\n",
      "it is not divisible by 3\n",
      "Number is devided by 3 \n",
      "it is not divisible by 3\n",
      "it is not divisible by 3\n",
      "Number is devided by 3 \n",
      "it is not divisible by 3\n"
     ]
    }
   ],
   "source": [
    "#question 5\n",
    "mylist=[1,2,3,4,5,6,7,8,9,10,11,12,13,14,15,16,17,18,19,20,21,22,23,24,25]\n",
    "for num in mylist:\n",
    "    if num %3==0:\n",
    "        print(\"Number is devided by 3 \")\n",
    "    else:\n",
    "        print(\"it is not divisible by 3\")"
   ]
  },
  {
   "cell_type": "code",
   "execution_count": 24,
   "id": "8d5b42d1-8498-40b1-8f11-9eeae00169e4",
   "metadata": {},
   "outputs": [
    {
     "data": {
      "text/plain": [
       "[1, 2, 3, 4, 'bharat']"
      ]
     },
     "execution_count": 24,
     "metadata": {},
     "output_type": "execute_result"
    }
   ],
   "source": [
    "\n",
    "listmy=[1,2,3,4,\"chirag\"]\n",
    "listmy[4]=\"bharat\"\n",
    "listmy\n",
    "\n"
   ]
  },
  {
   "cell_type": "code",
   "execution_count": 23,
   "id": "6ea0ba19-1a2f-4e9b-9809-b584679f10a5",
   "metadata": {},
   "outputs": [
    {
     "ename": "TypeError",
     "evalue": "'str' object does not support item assignment",
     "output_type": "error",
     "traceback": [
      "\u001b[0;31m---------------------------------------------------------------------------\u001b[0m",
      "\u001b[0;31mTypeError\u001b[0m                                 Traceback (most recent call last)",
      "Cell \u001b[0;32mIn[23], line 2\u001b[0m\n\u001b[1;32m      1\u001b[0m a\u001b[38;5;241m=\u001b[39m \u001b[38;5;124m\"\u001b[39m\u001b[38;5;124mchirag\u001b[39m\u001b[38;5;124m\"\u001b[39m\n\u001b[0;32m----> 2\u001b[0m \u001b[43ma\u001b[49m\u001b[43m[\u001b[49m\u001b[38;5;241;43m0\u001b[39;49m\u001b[43m]\u001b[49m\u001b[38;5;241m=\u001b[39m\u001b[38;5;124m\"\u001b[39m\u001b[38;5;124mb\u001b[39m\u001b[38;5;124m\"\u001b[39m\n",
      "\u001b[0;31mTypeError\u001b[0m: 'str' object does not support item assignment"
     ]
    }
   ],
   "source": [
    "a= \"chirag\"\n",
    "a[0]=\"b\""
   ]
  },
  {
   "cell_type": "code",
   "execution_count": null,
   "id": "fa937645-5c73-4fc9-8682-747e417bf163",
   "metadata": {},
   "outputs": [],
   "source": []
  }
 ],
 "metadata": {
  "kernelspec": {
   "display_name": "Python 3 (ipykernel)",
   "language": "python",
   "name": "python3"
  },
  "language_info": {
   "codemirror_mode": {
    "name": "ipython",
    "version": 3
   },
   "file_extension": ".py",
   "mimetype": "text/x-python",
   "name": "python",
   "nbconvert_exporter": "python",
   "pygments_lexer": "ipython3",
   "version": "3.10.8"
  }
 },
 "nbformat": 4,
 "nbformat_minor": 5
}
